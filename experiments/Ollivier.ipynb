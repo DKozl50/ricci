{
 "cells": [
  {
   "cell_type": "code",
   "execution_count": 1,
   "id": "chubby-presentation",
   "metadata": {},
   "outputs": [],
   "source": [
    "from scipy.stats import wasserstein_distance"
   ]
  },
  {
   "cell_type": "markdown",
   "id": "complete-morocco",
   "metadata": {},
   "source": [
    "Counting Ollivier curvature is not that trivial:\n",
    "\n",
    "try counting Oli(0, 1)\n",
    "According to https://www.mas.ncl.ac.uk/graph-curvature/ it is -1/15\n",
    "```\n",
    "   3--2\n",
    "   | /|\n",
    "   |/ |\n",
    "6--0--1\n",
    "   |  |\n",
    "   |  |\n",
    "   4  5\n",
    "\n",
    "```"
   ]
  },
  {
   "cell_type": "code",
   "execution_count": 2,
   "id": "saved-stick",
   "metadata": {},
   "outputs": [
    {
     "name": "stdout",
     "output_type": "stream",
     "text": [
      "0.9142857142857143\n"
     ]
    }
   ],
   "source": [
    "wd = wasserstein_distance([0, 1/5, 1/5, 1/5, 1/5, 0, 0], [1/3, 0, 1/3, 0, 0, 1/3, 0])\n",
    "print(1 - wd/1)"
   ]
  },
  {
   "cell_type": "markdown",
   "id": "incident-notification",
   "metadata": {},
   "source": [
    "Wrong!\n",
    "Algoritm assumes all paths are equal in length"
   ]
  },
  {
   "cell_type": "code",
   "execution_count": 3,
   "id": "wicked-murray",
   "metadata": {},
   "outputs": [],
   "source": [
    "import ot"
   ]
  },
  {
   "cell_type": "code",
   "execution_count": 4,
   "id": "fabulous-remainder",
   "metadata": {},
   "outputs": [],
   "source": [
    "path_lens = [\n",
    "    [0, 1, 1, 1, 1, 2, 1],\n",
    "    [1, 0, 1, 2, 2, 1, 2], \n",
    "    [1, 1, 0, 1, 2, 2, 2],\n",
    "    [1, 2, 1, 0, 2, 3, 2],\n",
    "    [1, 2, 2, 2, 0, 3, 2],\n",
    "    [2, 1, 2, 3, 3, 0, 3],\n",
    "    [1, 2, 2, 2, 2, 3, 0]\n",
    "]\n",
    "wd = ot.emd2([0, 1/5, 1/5, 1/5, 1/5, 0, 1/5], [1/3, 0, 1/3, 0, 0, 1/3, 0], path_lens)"
   ]
  },
  {
   "cell_type": "code",
   "execution_count": 5,
   "id": "compound-little",
   "metadata": {},
   "outputs": [
    {
     "name": "stdout",
     "output_type": "stream",
     "text": [
      "-0.06666666666666665\n"
     ]
    }
   ],
   "source": [
    "print(1 - wd/1)"
   ]
  },
  {
   "cell_type": "markdown",
   "id": "quality-armstrong",
   "metadata": {},
   "source": [
    "Wow it worked"
   ]
  },
  {
   "cell_type": "markdown",
   "id": "popular-ability",
   "metadata": {},
   "source": [
    "---"
   ]
  },
  {
   "cell_type": "code",
   "execution_count": 6,
   "id": "seeing-fetish",
   "metadata": {},
   "outputs": [],
   "source": [
    "import matplotlib.pyplot as plt\n",
    "import networkx as nx\n",
    "import numpy as np"
   ]
  },
  {
   "cell_type": "code",
   "execution_count": 7,
   "id": "vanilla-worth",
   "metadata": {},
   "outputs": [
    {
     "data": {
      "text/plain": [
       "'2.5'"
      ]
     },
     "execution_count": 7,
     "metadata": {},
     "output_type": "execute_result"
    }
   ],
   "source": [
    "nx.__version__"
   ]
  },
  {
   "cell_type": "code",
   "execution_count": 8,
   "id": "greater-income",
   "metadata": {},
   "outputs": [],
   "source": [
    "def show_graph(gr, attr='weight'):\n",
    "    pos = nx.drawing.layout.kamada_kawai_layout(gr)\n",
    "    nx.draw(gr, pos, with_labels=True)\n",
    "    elabels = nx.get_edge_attributes(gr, attr)\n",
    "    # convert floats to a readable looking format\n",
    "    elabels = {(v1, v2): str(round(val, 5)) for (v1, v2), val in elabels.items()} \n",
    "    nx.draw_networkx_edge_labels(gr, pos, \n",
    "                                 edge_labels=elabels)\n",
    "    plt.show()"
   ]
  },
  {
   "cell_type": "code",
   "execution_count": 9,
   "id": "thick-richmond",
   "metadata": {},
   "outputs": [],
   "source": [
    "adj = [\n",
    "    (0, 1), (0, 2), (0, 3), (0, 4), (0, 6),\n",
    "    (1, 2), (1, 5), \n",
    "    (2, 3)\n",
    "]"
   ]
  },
  {
   "cell_type": "code",
   "execution_count": 10,
   "id": "engaging-flooring",
   "metadata": {},
   "outputs": [],
   "source": [
    "G = nx.Graph()\n",
    "# G.add_nodes_from(range(7))\n",
    "G.add_edges_from(adj)\n",
    "for e in G.edges:\n",
    "    G.edges[e]['weight'] = 1\n",
    "for v in G.nodes:\n",
    "    G.nodes[v]['weight'] = 1"
   ]
  },
  {
   "cell_type": "code",
   "execution_count": 11,
   "id": "infrared-harvest",
   "metadata": {},
   "outputs": [
    {
     "data": {
      "image/png": "[encoded data removed]",
      "text/plain": [
       "<Figure size 432x288 with 1 Axes>"
      ]
     },
     "metadata": {},
     "output_type": "display_data"
    }
   ],
   "source": [
    "show_graph(G)"
   ]
  },
  {
   "cell_type": "code",
   "execution_count": 12,
   "id": "early-lawyer",
   "metadata": {},
   "outputs": [],
   "source": [
    "idleness = 0.3\n",
    "floyd_warshall = nx.algorithms.shortest_paths.dense.floyd_warshall_numpy(G)\n",
    "\n",
    "def create_mu(vertex, gr, idleness):\n",
    "    neighborlist = list(gr.neighbors(vertex))\n",
    "    spread = (1 - idleness) / len(neighborlist)\n",
    "    mu = [spread if v in neighborlist else 0 for v in gr.nodes()]\n",
    "    mu[vertex] = idleness\n",
    "    return mu\n",
    "\n",
    "for e in G.edges():\n",
    "    v1, v2 = e\n",
    "    mu1 = create_mu(v1, G, idleness)\n",
    "    mu2 = create_mu(v2, G, idleness)\n",
    "    wd = ot.emd2(mu1, mu2, floyd_warshall)\n",
    "    G.edges[e]['ollivier'] = 1 - wd/G.edges[e]['weight']"
   ]
  },
  {
   "cell_type": "code",
   "execution_count": 13,
   "id": "sacred-collection",
   "metadata": {},
   "outputs": [
    {
     "data": {
      "image/png": "[encoded data removed]",
      "text/plain": [
       "<Figure size 432x288 with 1 Axes>"
      ]
     },
     "metadata": {},
     "output_type": "display_data"
    }
   ],
   "source": [
    "show_graph(G, 'ollivier')"
   ]
  },
  {
   "cell_type": "markdown",
   "id": "identified-modern",
   "metadata": {},
   "source": [
    "Right!"
   ]
  }
 ],
 "metadata": {
  "kernelspec": {
   "display_name": "Python 3",
   "language": "python",
   "name": "python3"
  },
  "language_info": {
   "codemirror_mode": {
    "name": "ipython",
    "version": 3
   },
   "file_extension": ".py",
   "mimetype": "text/x-python",
   "name": "python",
   "nbconvert_exporter": "python",
   "pygments_lexer": "ipython3",
   "version": "3.9.1"
  }
 },
 "nbformat": 4,
 "nbformat_minor": 5
}
